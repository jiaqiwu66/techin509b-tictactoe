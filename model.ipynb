{
 "cells": [
  {
   "cell_type": "code",
   "execution_count": 1,
   "id": "initial_id",
   "metadata": {
    "collapsed": true,
    "ExecuteTime": {
     "end_time": "2023-12-05T06:49:14.609167Z",
     "start_time": "2023-12-05T06:49:12.706766Z"
    }
   },
   "outputs": [],
   "source": [
    "import pandas as pd\n",
    "import matplotlib.pyplot as plt\n",
    "import numpy as np\n",
    "from sklearn.linear_model import LinearRegression\n",
    "from sklearn.metrics import mean_squared_error, r2_score"
   ]
  },
  {
   "cell_type": "code",
   "execution_count": 2,
   "outputs": [
    {
     "data": {
      "text/plain": "    step1  step2  step3  step4  step5  step6  step7  step8  step9 winner  \\\n0       5      2      1      9      7      3      4      0      0      X   \n1       5      1      7      3      2      8      6      4      9      0   \n2       5      2      7      3      1      4      9      0      0      X   \n3       4      5      3      9      1      2      7      0      0      X   \n4       5      1      2      8      7      3      6      4      9      0   \n..    ...    ...    ...    ...    ...    ...    ...    ...    ...    ...   \n59      1      5      3      2      8      6      4      7      9      0   \n60      3      4      5      7      1      9      2      0      0      X   \n61      5      3      1      9      6      4      2      8      7      0   \n62      3      5      1      2      8      4      6      9      7      0   \n63      1      3      5      9      6      4      8      2      7      0   \n\n   pattern  total_step  \n0        V           7  \n1        0           9  \n2        D           7  \n3        V           7  \n4        0           9  \n..     ...         ...  \n59       0           9  \n60       H           7  \n61       0           9  \n62       0           9  \n63       0           9  \n\n[64 rows x 12 columns]",
      "text/html": "<div>\n<style scoped>\n    .dataframe tbody tr th:only-of-type {\n        vertical-align: middle;\n    }\n\n    .dataframe tbody tr th {\n        vertical-align: top;\n    }\n\n    .dataframe thead th {\n        text-align: right;\n    }\n</style>\n<table border=\"1\" class=\"dataframe\">\n  <thead>\n    <tr style=\"text-align: right;\">\n      <th></th>\n      <th>step1</th>\n      <th>step2</th>\n      <th>step3</th>\n      <th>step4</th>\n      <th>step5</th>\n      <th>step6</th>\n      <th>step7</th>\n      <th>step8</th>\n      <th>step9</th>\n      <th>winner</th>\n      <th>pattern</th>\n      <th>total_step</th>\n    </tr>\n  </thead>\n  <tbody>\n    <tr>\n      <th>0</th>\n      <td>5</td>\n      <td>2</td>\n      <td>1</td>\n      <td>9</td>\n      <td>7</td>\n      <td>3</td>\n      <td>4</td>\n      <td>0</td>\n      <td>0</td>\n      <td>X</td>\n      <td>V</td>\n      <td>7</td>\n    </tr>\n    <tr>\n      <th>1</th>\n      <td>5</td>\n      <td>1</td>\n      <td>7</td>\n      <td>3</td>\n      <td>2</td>\n      <td>8</td>\n      <td>6</td>\n      <td>4</td>\n      <td>9</td>\n      <td>0</td>\n      <td>0</td>\n      <td>9</td>\n    </tr>\n    <tr>\n      <th>2</th>\n      <td>5</td>\n      <td>2</td>\n      <td>7</td>\n      <td>3</td>\n      <td>1</td>\n      <td>4</td>\n      <td>9</td>\n      <td>0</td>\n      <td>0</td>\n      <td>X</td>\n      <td>D</td>\n      <td>7</td>\n    </tr>\n    <tr>\n      <th>3</th>\n      <td>4</td>\n      <td>5</td>\n      <td>3</td>\n      <td>9</td>\n      <td>1</td>\n      <td>2</td>\n      <td>7</td>\n      <td>0</td>\n      <td>0</td>\n      <td>X</td>\n      <td>V</td>\n      <td>7</td>\n    </tr>\n    <tr>\n      <th>4</th>\n      <td>5</td>\n      <td>1</td>\n      <td>2</td>\n      <td>8</td>\n      <td>7</td>\n      <td>3</td>\n      <td>6</td>\n      <td>4</td>\n      <td>9</td>\n      <td>0</td>\n      <td>0</td>\n      <td>9</td>\n    </tr>\n    <tr>\n      <th>...</th>\n      <td>...</td>\n      <td>...</td>\n      <td>...</td>\n      <td>...</td>\n      <td>...</td>\n      <td>...</td>\n      <td>...</td>\n      <td>...</td>\n      <td>...</td>\n      <td>...</td>\n      <td>...</td>\n      <td>...</td>\n    </tr>\n    <tr>\n      <th>59</th>\n      <td>1</td>\n      <td>5</td>\n      <td>3</td>\n      <td>2</td>\n      <td>8</td>\n      <td>6</td>\n      <td>4</td>\n      <td>7</td>\n      <td>9</td>\n      <td>0</td>\n      <td>0</td>\n      <td>9</td>\n    </tr>\n    <tr>\n      <th>60</th>\n      <td>3</td>\n      <td>4</td>\n      <td>5</td>\n      <td>7</td>\n      <td>1</td>\n      <td>9</td>\n      <td>2</td>\n      <td>0</td>\n      <td>0</td>\n      <td>X</td>\n      <td>H</td>\n      <td>7</td>\n    </tr>\n    <tr>\n      <th>61</th>\n      <td>5</td>\n      <td>3</td>\n      <td>1</td>\n      <td>9</td>\n      <td>6</td>\n      <td>4</td>\n      <td>2</td>\n      <td>8</td>\n      <td>7</td>\n      <td>0</td>\n      <td>0</td>\n      <td>9</td>\n    </tr>\n    <tr>\n      <th>62</th>\n      <td>3</td>\n      <td>5</td>\n      <td>1</td>\n      <td>2</td>\n      <td>8</td>\n      <td>4</td>\n      <td>6</td>\n      <td>9</td>\n      <td>7</td>\n      <td>0</td>\n      <td>0</td>\n      <td>9</td>\n    </tr>\n    <tr>\n      <th>63</th>\n      <td>1</td>\n      <td>3</td>\n      <td>5</td>\n      <td>9</td>\n      <td>6</td>\n      <td>4</td>\n      <td>8</td>\n      <td>2</td>\n      <td>7</td>\n      <td>0</td>\n      <td>0</td>\n      <td>9</td>\n    </tr>\n  </tbody>\n</table>\n<p>64 rows × 12 columns</p>\n</div>"
     },
     "execution_count": 2,
     "metadata": {},
     "output_type": "execute_result"
    }
   ],
   "source": [
    "game_data = pd.read_csv(\"./logs/log_two_player.csv\", header=None, na_values=\"None\")\n",
    "# add header to the game data\n",
    "game_data.columns =[\"step1\", \"step2\", \"step3\", \"step4\", \"step5\", \"step6\", \"step7\", \"step8\", \"step9\", \"winner\", \"pattern\", \"total_step\"]\n",
    "game_data"
   ],
   "metadata": {
    "collapsed": false,
    "ExecuteTime": {
     "end_time": "2023-12-05T06:49:14.678236Z",
     "start_time": "2023-12-05T06:49:14.609839Z"
    }
   },
   "id": "8d1aff39de3d7bf3"
  },
  {
   "cell_type": "code",
   "execution_count": 3,
   "outputs": [
    {
     "data": {
      "text/plain": "    player1  player2  step1  step2  step3  step4  step5  step6  step7  step8  \\\n0         1       -1      5      2      1      9      7      3      4      0   \n1         1       -1      5      1      7      3      2      8      6      4   \n2         1       -1      5      2      7      3      1      4      9      0   \n3         1       -1      4      5      3      9      1      2      7      0   \n4         1       -1      5      1      2      8      7      3      6      4   \n..      ...      ...    ...    ...    ...    ...    ...    ...    ...    ...   \n59        1       -1      1      5      3      2      8      6      4      7   \n60        1       -1      3      4      5      7      1      9      2      0   \n61        1       -1      5      3      1      9      6      4      2      8   \n62        1       -1      3      5      1      2      8      4      6      9   \n63        1       -1      1      3      5      9      6      4      8      2   \n\n    step9 winner pattern  total_step  step1_category  \n0       0      1       V           7               1  \n1       9      0       0           9               1  \n2       0      1       D           7               1  \n3       0      1       V           7               3  \n4       9      0       0           9               1  \n..    ...    ...     ...         ...             ...  \n59      9      0       0           9               2  \n60      0      1       H           7               2  \n61      7      0       0           9               1  \n62      7      0       0           9               2  \n63      7      0       0           9               2  \n\n[64 rows x 15 columns]",
      "text/html": "<div>\n<style scoped>\n    .dataframe tbody tr th:only-of-type {\n        vertical-align: middle;\n    }\n\n    .dataframe tbody tr th {\n        vertical-align: top;\n    }\n\n    .dataframe thead th {\n        text-align: right;\n    }\n</style>\n<table border=\"1\" class=\"dataframe\">\n  <thead>\n    <tr style=\"text-align: right;\">\n      <th></th>\n      <th>player1</th>\n      <th>player2</th>\n      <th>step1</th>\n      <th>step2</th>\n      <th>step3</th>\n      <th>step4</th>\n      <th>step5</th>\n      <th>step6</th>\n      <th>step7</th>\n      <th>step8</th>\n      <th>step9</th>\n      <th>winner</th>\n      <th>pattern</th>\n      <th>total_step</th>\n      <th>step1_category</th>\n    </tr>\n  </thead>\n  <tbody>\n    <tr>\n      <th>0</th>\n      <td>1</td>\n      <td>-1</td>\n      <td>5</td>\n      <td>2</td>\n      <td>1</td>\n      <td>9</td>\n      <td>7</td>\n      <td>3</td>\n      <td>4</td>\n      <td>0</td>\n      <td>0</td>\n      <td>1</td>\n      <td>V</td>\n      <td>7</td>\n      <td>1</td>\n    </tr>\n    <tr>\n      <th>1</th>\n      <td>1</td>\n      <td>-1</td>\n      <td>5</td>\n      <td>1</td>\n      <td>7</td>\n      <td>3</td>\n      <td>2</td>\n      <td>8</td>\n      <td>6</td>\n      <td>4</td>\n      <td>9</td>\n      <td>0</td>\n      <td>0</td>\n      <td>9</td>\n      <td>1</td>\n    </tr>\n    <tr>\n      <th>2</th>\n      <td>1</td>\n      <td>-1</td>\n      <td>5</td>\n      <td>2</td>\n      <td>7</td>\n      <td>3</td>\n      <td>1</td>\n      <td>4</td>\n      <td>9</td>\n      <td>0</td>\n      <td>0</td>\n      <td>1</td>\n      <td>D</td>\n      <td>7</td>\n      <td>1</td>\n    </tr>\n    <tr>\n      <th>3</th>\n      <td>1</td>\n      <td>-1</td>\n      <td>4</td>\n      <td>5</td>\n      <td>3</td>\n      <td>9</td>\n      <td>1</td>\n      <td>2</td>\n      <td>7</td>\n      <td>0</td>\n      <td>0</td>\n      <td>1</td>\n      <td>V</td>\n      <td>7</td>\n      <td>3</td>\n    </tr>\n    <tr>\n      <th>4</th>\n      <td>1</td>\n      <td>-1</td>\n      <td>5</td>\n      <td>1</td>\n      <td>2</td>\n      <td>8</td>\n      <td>7</td>\n      <td>3</td>\n      <td>6</td>\n      <td>4</td>\n      <td>9</td>\n      <td>0</td>\n      <td>0</td>\n      <td>9</td>\n      <td>1</td>\n    </tr>\n    <tr>\n      <th>...</th>\n      <td>...</td>\n      <td>...</td>\n      <td>...</td>\n      <td>...</td>\n      <td>...</td>\n      <td>...</td>\n      <td>...</td>\n      <td>...</td>\n      <td>...</td>\n      <td>...</td>\n      <td>...</td>\n      <td>...</td>\n      <td>...</td>\n      <td>...</td>\n      <td>...</td>\n    </tr>\n    <tr>\n      <th>59</th>\n      <td>1</td>\n      <td>-1</td>\n      <td>1</td>\n      <td>5</td>\n      <td>3</td>\n      <td>2</td>\n      <td>8</td>\n      <td>6</td>\n      <td>4</td>\n      <td>7</td>\n      <td>9</td>\n      <td>0</td>\n      <td>0</td>\n      <td>9</td>\n      <td>2</td>\n    </tr>\n    <tr>\n      <th>60</th>\n      <td>1</td>\n      <td>-1</td>\n      <td>3</td>\n      <td>4</td>\n      <td>5</td>\n      <td>7</td>\n      <td>1</td>\n      <td>9</td>\n      <td>2</td>\n      <td>0</td>\n      <td>0</td>\n      <td>1</td>\n      <td>H</td>\n      <td>7</td>\n      <td>2</td>\n    </tr>\n    <tr>\n      <th>61</th>\n      <td>1</td>\n      <td>-1</td>\n      <td>5</td>\n      <td>3</td>\n      <td>1</td>\n      <td>9</td>\n      <td>6</td>\n      <td>4</td>\n      <td>2</td>\n      <td>8</td>\n      <td>7</td>\n      <td>0</td>\n      <td>0</td>\n      <td>9</td>\n      <td>1</td>\n    </tr>\n    <tr>\n      <th>62</th>\n      <td>1</td>\n      <td>-1</td>\n      <td>3</td>\n      <td>5</td>\n      <td>1</td>\n      <td>2</td>\n      <td>8</td>\n      <td>4</td>\n      <td>6</td>\n      <td>9</td>\n      <td>7</td>\n      <td>0</td>\n      <td>0</td>\n      <td>9</td>\n      <td>2</td>\n    </tr>\n    <tr>\n      <th>63</th>\n      <td>1</td>\n      <td>-1</td>\n      <td>1</td>\n      <td>3</td>\n      <td>5</td>\n      <td>9</td>\n      <td>6</td>\n      <td>4</td>\n      <td>8</td>\n      <td>2</td>\n      <td>7</td>\n      <td>0</td>\n      <td>0</td>\n      <td>9</td>\n      <td>2</td>\n    </tr>\n  </tbody>\n</table>\n<p>64 rows × 15 columns</p>\n</div>"
     },
     "execution_count": 3,
     "metadata": {},
     "output_type": "execute_result"
    }
   ],
   "source": [
    "game_data.insert(0, \"player1\", \"X\")\n",
    "game_data.insert(1, \"player2\", \"O\")\n",
    "\n",
    "# simplify the position in 3 categories： middel, corner, center\n",
    "MIDDLE = {2, 4, 6, 8}\n",
    "CORNER = {1, 3, 7, 9}\n",
    "CENTER = 5\n",
    "category_list = []\n",
    "for index, row in game_data.iterrows():\n",
    "    if row.iloc[2] == 5:\n",
    "        category_list.append(\"CEN\")\n",
    "    elif row.iloc[2] in MIDDLE:\n",
    "        category_list.append(\"MID\")\n",
    "    elif row.iloc[2] in CORNER:\n",
    "        category_list.append(\"COR\")\n",
    "game_data[\"step1_category\"] = category_list\n",
    "\n",
    "# in winner column, 1 stands for X win, -1 stands for O win, 0 stands for a draw game\n",
    "# in step1_category column, 1 stands for center position, 2 stands for corner position, 3 stands for middle position\n",
    "game_data = game_data.replace(\"CEN\", 1).replace(\"COR\", 2).replace(\"MID\", 3).replace(\"X\", 1).replace(\"O\", -1)\n",
    "game_data"
   ],
   "metadata": {
    "collapsed": false,
    "ExecuteTime": {
     "end_time": "2023-12-05T06:49:14.683529Z",
     "start_time": "2023-12-05T06:49:14.680417Z"
    }
   },
   "id": "6be2add9183ba77a"
  },
  {
   "cell_type": "code",
   "execution_count": 4,
   "outputs": [],
   "source": [
    "X = game_data[[\"step1_category\"]]\n",
    "y = game_data[[\"winner\"]]"
   ],
   "metadata": {
    "collapsed": false,
    "ExecuteTime": {
     "end_time": "2023-12-05T06:49:14.686997Z",
     "start_time": "2023-12-05T06:49:14.684364Z"
    }
   },
   "id": "b4e22461aaf2599"
  },
  {
   "cell_type": "code",
   "execution_count": 5,
   "outputs": [
    {
     "data": {
      "text/plain": "<matplotlib.collections.PathCollection at 0x16890d190>"
     },
     "execution_count": 5,
     "metadata": {},
     "output_type": "execute_result"
    },
    {
     "data": {
      "text/plain": "<Figure size 640x480 with 1 Axes>",
      "image/png": "[encoded data removed]"
     },
     "metadata": {},
     "output_type": "display_data"
    }
   ],
   "source": [
    "model = LinearRegression()\n",
    "model.fit(X, y)\n",
    "y_pred = model.predict(X)\n",
    "# print(y_pred)\n",
    "plt.scatter(X, y)\n",
    "plt.scatter(X, y_pred)"
   ],
   "metadata": {
    "collapsed": false,
    "ExecuteTime": {
     "end_time": "2023-12-05T06:49:14.912237Z",
     "start_time": "2023-12-05T06:49:14.690305Z"
    }
   },
   "id": "786650e53c616014"
  },
  {
   "cell_type": "code",
   "execution_count": 6,
   "outputs": [
    {
     "name": "stdout",
     "output_type": "stream",
     "text": [
      "[[1.         0.44565217]\n",
      " [2.         0.27173913]\n",
      " [3.         0.09782609]]\n",
      "If the first player put on Center, the winning rate is 72.28%\n",
      "If the first player put on Corner, the winning rate is 63.59%\n",
      "If the first player put on Middle, the winning rate is 54.89%\n"
     ]
    }
   ],
   "source": [
    "res = np.unique(np.concatenate((X, y_pred), axis=1), axis=0)\n",
    "print(res)\n",
    "tag = [\"Center\", \"Corner\", \"Middle\"]\n",
    "for i in range(0, len(tag)):\n",
    "    print(f\"If the first player put on {tag[i]}, the winning rate is {round((res[i][1] + 1) / 2 * 100, 2)}%\")"
   ],
   "metadata": {
    "collapsed": false,
    "ExecuteTime": {
     "end_time": "2023-12-05T06:49:14.913160Z",
     "start_time": "2023-12-05T06:49:14.808799Z"
    }
   },
   "id": "33b8c267db3cdbc6"
  },
  {
   "cell_type": "code",
   "execution_count": 7,
   "outputs": [
    {
     "name": "stdout",
     "output_type": "stream",
     "text": [
      "Mean Squared Error: 0.3641304347826087\n",
      "R-squared: 0.02898550724637683\n",
      "Coefficients:\n",
      "step1_category: [-0.17391304]\n",
      "Intercept: [0.61956522]\n"
     ]
    }
   ],
   "source": [
    "mse = mean_squared_error(y, y_pred)\n",
    "r2 = r2_score(y, y_pred)\n",
    "\n",
    "print(f\"Mean Squared Error: {mse}\")\n",
    "print(f\"R-squared: {r2}\")\n",
    "\n",
    "# the coefficients give us the model parameters\n",
    "\n",
    "print(\"Coefficients:\")\n",
    "for feature, coefficient in zip(X.columns, model.coef_):\n",
    "    print(f\"{feature}: {coefficient}\")\n",
    "\n",
    "# Print out the intercept\n",
    "print(f\"Intercept: {model.intercept_}\")"
   ],
   "metadata": {
    "collapsed": false,
    "ExecuteTime": {
     "end_time": "2023-12-05T06:49:14.913362Z",
     "start_time": "2023-12-05T06:49:14.817274Z"
    }
   },
   "id": "cc7780756cc24b2d"
  },
  {
   "cell_type": "markdown",
   "source": [
    "Report：\n",
    "1. The linear regression model shows that if the first player X puts the first step in the center position (the 5 position and present as \"1\" in x-axis), the result for X is either win (shows as 1.00 in y-axis) or draw game (shows as 0.00 in y-axis). And when X puts the first step in corner or middle position, it's winning rates are lower, but still larger than 50%.\n",
    "2. According to the model, if the first player, which in this game is always \"X\", puts the first step at the center position (present as \"1\" in x-axis) it will have the highest winning rate at 72.28%. Thus center position is best to start the game.\n",
    "3. Also, for the first player's first step, the corner position (present as \"2\" in x-axis) has a winning rate of 63.59%. And middle position (present as \"3\" in x-axis) has the lowest winning rate of 54.89%\n"
   ],
   "metadata": {
    "collapsed": false
   },
   "id": "4a1a83ce817770c"
  }
 ],
 "metadata": {
  "kernelspec": {
   "display_name": "Python 3",
   "language": "python",
   "name": "python3"
  },
  "language_info": {
   "codemirror_mode": {
    "name": "ipython",
    "version": 2
   },
   "file_extension": ".py",
   "mimetype": "text/x-python",
   "name": "python",
   "nbconvert_exporter": "python",
   "pygments_lexer": "ipython2",
   "version": "2.7.6"
  }
 },
 "nbformat": 4,
 "nbformat_minor": 5
}
